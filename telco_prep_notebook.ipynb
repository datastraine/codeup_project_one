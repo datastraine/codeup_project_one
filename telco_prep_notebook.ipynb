{
 "cells": [
  {
   "cell_type": "code",
   "execution_count": 2,
   "metadata": {},
   "outputs": [
    {
     "name": "stdout",
     "output_type": "stream",
     "text": [
      "Success\n"
     ]
    }
   ],
   "source": [
    "import pandas as pd\n",
    "import numpy as np\n",
    "import os\n",
    "import env\n",
    "import acquire\n",
    "import matplotlib.pyplot as plt\n",
    "import seaborn as sns\n",
    "\n",
    "print(\"Success\")"
   ]
  },
  {
   "cell_type": "code",
   "execution_count": 3,
   "metadata": {},
   "outputs": [
    {
     "data": {
      "text/html": [
       "<div>\n",
       "<style scoped>\n",
       "    .dataframe tbody tr th:only-of-type {\n",
       "        vertical-align: middle;\n",
       "    }\n",
       "\n",
       "    .dataframe tbody tr th {\n",
       "        vertical-align: top;\n",
       "    }\n",
       "\n",
       "    .dataframe thead th {\n",
       "        text-align: right;\n",
       "    }\n",
       "</style>\n",
       "<table border=\"1\" class=\"dataframe\">\n",
       "  <thead>\n",
       "    <tr style=\"text-align: right;\">\n",
       "      <th></th>\n",
       "      <th>senior_citizen</th>\n",
       "      <th>tenure</th>\n",
       "      <th>internet_service_type_id</th>\n",
       "      <th>contract_type_id</th>\n",
       "      <th>payment_type_id</th>\n",
       "      <th>monthly_charges</th>\n",
       "      <th>total_charges</th>\n",
       "      <th>internet_service_type_id.1</th>\n",
       "      <th>payment_type_id.1</th>\n",
       "      <th>contract_type_id.1</th>\n",
       "    </tr>\n",
       "  </thead>\n",
       "  <tbody>\n",
       "    <tr>\n",
       "      <th>count</th>\n",
       "      <td>7043.000000</td>\n",
       "      <td>7043.000000</td>\n",
       "      <td>7043.000000</td>\n",
       "      <td>7043.000000</td>\n",
       "      <td>7043.000000</td>\n",
       "      <td>7043.000000</td>\n",
       "      <td>7032.000000</td>\n",
       "      <td>7043.000000</td>\n",
       "      <td>7043.000000</td>\n",
       "      <td>7043.000000</td>\n",
       "    </tr>\n",
       "    <tr>\n",
       "      <th>mean</th>\n",
       "      <td>0.162147</td>\n",
       "      <td>32.371149</td>\n",
       "      <td>1.872923</td>\n",
       "      <td>1.690473</td>\n",
       "      <td>2.315633</td>\n",
       "      <td>64.761692</td>\n",
       "      <td>2283.300441</td>\n",
       "      <td>1.872923</td>\n",
       "      <td>2.315633</td>\n",
       "      <td>1.690473</td>\n",
       "    </tr>\n",
       "    <tr>\n",
       "      <th>std</th>\n",
       "      <td>0.368612</td>\n",
       "      <td>24.559481</td>\n",
       "      <td>0.737796</td>\n",
       "      <td>0.833755</td>\n",
       "      <td>1.148907</td>\n",
       "      <td>30.090047</td>\n",
       "      <td>2266.771362</td>\n",
       "      <td>0.737796</td>\n",
       "      <td>1.148907</td>\n",
       "      <td>0.833755</td>\n",
       "    </tr>\n",
       "    <tr>\n",
       "      <th>min</th>\n",
       "      <td>0.000000</td>\n",
       "      <td>0.000000</td>\n",
       "      <td>1.000000</td>\n",
       "      <td>1.000000</td>\n",
       "      <td>1.000000</td>\n",
       "      <td>18.250000</td>\n",
       "      <td>18.800000</td>\n",
       "      <td>1.000000</td>\n",
       "      <td>1.000000</td>\n",
       "      <td>1.000000</td>\n",
       "    </tr>\n",
       "    <tr>\n",
       "      <th>25%</th>\n",
       "      <td>0.000000</td>\n",
       "      <td>9.000000</td>\n",
       "      <td>1.000000</td>\n",
       "      <td>1.000000</td>\n",
       "      <td>1.000000</td>\n",
       "      <td>35.500000</td>\n",
       "      <td>401.450000</td>\n",
       "      <td>1.000000</td>\n",
       "      <td>1.000000</td>\n",
       "      <td>1.000000</td>\n",
       "    </tr>\n",
       "    <tr>\n",
       "      <th>50%</th>\n",
       "      <td>0.000000</td>\n",
       "      <td>29.000000</td>\n",
       "      <td>2.000000</td>\n",
       "      <td>1.000000</td>\n",
       "      <td>2.000000</td>\n",
       "      <td>70.350000</td>\n",
       "      <td>1397.475000</td>\n",
       "      <td>2.000000</td>\n",
       "      <td>2.000000</td>\n",
       "      <td>1.000000</td>\n",
       "    </tr>\n",
       "    <tr>\n",
       "      <th>75%</th>\n",
       "      <td>0.000000</td>\n",
       "      <td>55.000000</td>\n",
       "      <td>2.000000</td>\n",
       "      <td>2.000000</td>\n",
       "      <td>3.000000</td>\n",
       "      <td>89.850000</td>\n",
       "      <td>3794.737500</td>\n",
       "      <td>2.000000</td>\n",
       "      <td>3.000000</td>\n",
       "      <td>2.000000</td>\n",
       "    </tr>\n",
       "    <tr>\n",
       "      <th>max</th>\n",
       "      <td>1.000000</td>\n",
       "      <td>72.000000</td>\n",
       "      <td>3.000000</td>\n",
       "      <td>3.000000</td>\n",
       "      <td>4.000000</td>\n",
       "      <td>118.750000</td>\n",
       "      <td>8684.800000</td>\n",
       "      <td>3.000000</td>\n",
       "      <td>4.000000</td>\n",
       "      <td>3.000000</td>\n",
       "    </tr>\n",
       "  </tbody>\n",
       "</table>\n",
       "</div>"
      ],
      "text/plain": [
       "       senior_citizen       tenure  internet_service_type_id  \\\n",
       "count     7043.000000  7043.000000               7043.000000   \n",
       "mean         0.162147    32.371149                  1.872923   \n",
       "std          0.368612    24.559481                  0.737796   \n",
       "min          0.000000     0.000000                  1.000000   \n",
       "25%          0.000000     9.000000                  1.000000   \n",
       "50%          0.000000    29.000000                  2.000000   \n",
       "75%          0.000000    55.000000                  2.000000   \n",
       "max          1.000000    72.000000                  3.000000   \n",
       "\n",
       "       contract_type_id  payment_type_id  monthly_charges  total_charges  \\\n",
       "count       7043.000000      7043.000000      7043.000000    7032.000000   \n",
       "mean           1.690473         2.315633        64.761692    2283.300441   \n",
       "std            0.833755         1.148907        30.090047    2266.771362   \n",
       "min            1.000000         1.000000        18.250000      18.800000   \n",
       "25%            1.000000         1.000000        35.500000     401.450000   \n",
       "50%            1.000000         2.000000        70.350000    1397.475000   \n",
       "75%            2.000000         3.000000        89.850000    3794.737500   \n",
       "max            3.000000         4.000000       118.750000    8684.800000   \n",
       "\n",
       "       internet_service_type_id.1  payment_type_id.1  contract_type_id.1  \n",
       "count                 7043.000000        7043.000000         7043.000000  \n",
       "mean                     1.872923           2.315633            1.690473  \n",
       "std                      0.737796           1.148907            0.833755  \n",
       "min                      1.000000           1.000000            1.000000  \n",
       "25%                      1.000000           1.000000            1.000000  \n",
       "50%                      2.000000           2.000000            1.000000  \n",
       "75%                      2.000000           3.000000            2.000000  \n",
       "max                      3.000000           4.000000            3.000000  "
      ]
     },
     "execution_count": 3,
     "metadata": {},
     "output_type": "execute_result"
    }
   ],
   "source": [
    "telco = acquire.get_telco()\n",
    "telco['total_charges'] = pd.to_numeric(telco['total_charges'],errors='coerce')\n",
    "des = telco.describe()\n",
    "des"
   ]
  },
  {
   "cell_type": "markdown",
   "metadata": {},
   "source": [
    "### Look for outliers in both total charages and tenure"
   ]
  },
  {
   "cell_type": "code",
   "execution_count": 4,
   "metadata": {},
   "outputs": [],
   "source": [
    "IQR_tcharages = (des.iloc[6].iloc[6] - des.iloc[4].iloc[4])\n",
    "Q3_tcharages = des.iloc[6].iloc[6]\n",
    "Q1_tcharages = des.iloc[4].iloc[4]\n",
    "little_outliers = Q1_tcharages - (1.5 * IQR_tcharages)\n",
    "big_outliers = Q3_tcharages + (1.5 * IQR_tcharages)\n",
    "\n",
    "telco['outlier_charges'] = telco['total_charges'] > big_outliers"
   ]
  },
  {
   "cell_type": "code",
   "execution_count": 5,
   "metadata": {},
   "outputs": [
    {
     "name": "stdout",
     "output_type": "stream",
     "text": [
      "Percent of tenure outliers is 0.0, \n",
      "Percent of total_charge outliers is 0.0\n"
     ]
    }
   ],
   "source": [
    "IQR_tenure = (des.iloc[6].iloc[1] - des.iloc[4].iloc[1])\n",
    "Q3_tenure = des.iloc[6].iloc[1]\n",
    "Q1_tenure = des.iloc[4].iloc[1]\n",
    "little_outliers = Q1_tenure - (1.5 * IQR_tenure)\n",
    "big_outliers = Q3_tenure + (1.5 * IQR_tenure)\n",
    "\n",
    "telco['outlier_tenure'] = telco['tenure'] > big_outliers\n",
    "print(f\"Percent of tenure outliers is {telco['outlier_tenure'].mean()}, \\nPercent of total_charge outliers is {telco['outlier_charges'].mean()}\")"
   ]
  },
  {
   "cell_type": "markdown",
   "metadata": {},
   "source": [
    "### Look at the raw data"
   ]
  },
  {
   "cell_type": "code",
   "execution_count": 6,
   "metadata": {
    "scrolled": true
   },
   "outputs": [
    {
     "name": "stdout",
     "output_type": "stream",
     "text": [
      "<class 'pandas.core.frame.DataFrame'>\n",
      "RangeIndex: 7043 entries, 0 to 7042\n",
      "Data columns (total 29 columns):\n",
      " #   Column                      Non-Null Count  Dtype  \n",
      "---  ------                      --------------  -----  \n",
      " 0   customer_id                 7043 non-null   object \n",
      " 1   gender                      7043 non-null   object \n",
      " 2   senior_citizen              7043 non-null   int64  \n",
      " 3   partner                     7043 non-null   object \n",
      " 4   dependents                  7043 non-null   object \n",
      " 5   tenure                      7043 non-null   int64  \n",
      " 6   phone_service               7043 non-null   object \n",
      " 7   multiple_lines              7043 non-null   object \n",
      " 8   internet_service_type_id    7043 non-null   int64  \n",
      " 9   online_security             7043 non-null   object \n",
      " 10  online_backup               7043 non-null   object \n",
      " 11  device_protection           7043 non-null   object \n",
      " 12  tech_support                7043 non-null   object \n",
      " 13  streaming_tv                7043 non-null   object \n",
      " 14  streaming_movies            7043 non-null   object \n",
      " 15  contract_type_id            7043 non-null   int64  \n",
      " 16  paperless_billing           7043 non-null   object \n",
      " 17  payment_type_id             7043 non-null   int64  \n",
      " 18  monthly_charges             7043 non-null   float64\n",
      " 19  total_charges               7032 non-null   float64\n",
      " 20  churn                       7043 non-null   object \n",
      " 21  internet_service_type_id.1  7043 non-null   int64  \n",
      " 22  internet_service_type       7043 non-null   object \n",
      " 23  payment_type_id.1           7043 non-null   int64  \n",
      " 24  payment_type                7043 non-null   object \n",
      " 25  contract_type_id.1          7043 non-null   int64  \n",
      " 26  contract_type               7043 non-null   object \n",
      " 27  outlier_charges             7043 non-null   bool   \n",
      " 28  outlier_tenure              7043 non-null   bool   \n",
      "dtypes: bool(2), float64(2), int64(8), object(17)\n",
      "memory usage: 1.5+ MB\n"
     ]
    }
   ],
   "source": [
    "telco.info()"
   ]
  },
  {
   "cell_type": "code",
   "execution_count": 7,
   "metadata": {},
   "outputs": [
    {
     "data": {
      "text/plain": [
       "<matplotlib.axes._subplots.AxesSubplot at 0x204aabd1cd0>"
      ]
     },
     "execution_count": 7,
     "metadata": {},
     "output_type": "execute_result"
    },
    {
     "data": {
      "image/png": "[encoded data removed]",
      "text/plain": [
       "<Figure size 432x288 with 1 Axes>"
      ]
     },
     "metadata": {
      "needs_background": "light"
     },
     "output_type": "display_data"
    }
   ],
   "source": [
    "sns.regplot(x='tenure', y='total_charges', data=telco)"
   ]
  },
  {
   "cell_type": "code",
   "execution_count": 8,
   "metadata": {},
   "outputs": [
    {
     "data": {
      "text/plain": [
       "<matplotlib.axes._subplots.AxesSubplot at 0x204ab4338e0>"
      ]
     },
     "execution_count": 8,
     "metadata": {},
     "output_type": "execute_result"
    },
    {
     "data": {
      "image/png": "[encoded data removed]",
      "text/plain": [
       "<Figure size 432x288 with 1 Axes>"
      ]
     },
     "metadata": {
      "needs_background": "light"
     },
     "output_type": "display_data"
    }
   ],
   "source": [
    "sns.distplot(telco['total_charges'])"
   ]
  },
  {
   "cell_type": "code",
   "execution_count": 9,
   "metadata": {},
   "outputs": [
    {
     "data": {
      "text/plain": [
       "<matplotlib.axes._subplots.AxesSubplot at 0x204ab4e1940>"
      ]
     },
     "execution_count": 9,
     "metadata": {},
     "output_type": "execute_result"
    },
    {
     "data": {
      "image/png": "[encoded data removed]",
      "text/plain": [
       "<Figure size 432x288 with 1 Axes>"
      ]
     },
     "metadata": {
      "needs_background": "light"
     },
     "output_type": "display_data"
    }
   ],
   "source": [
    "sns.distplot(telco['total_charges'])"
   ]
  },
  {
   "cell_type": "code",
   "execution_count": 10,
   "metadata": {},
   "outputs": [
    {
     "data": {
      "text/plain": [
       "Index(['customer_id', 'gender', 'senior_citizen', 'partner', 'dependents',\n",
       "       'tenure', 'phone_service', 'multiple_lines', 'internet_service_type_id',\n",
       "       'online_security', 'online_backup', 'device_protection', 'tech_support',\n",
       "       'streaming_tv', 'streaming_movies', 'contract_type_id',\n",
       "       'paperless_billing', 'payment_type_id', 'monthly_charges',\n",
       "       'total_charges', 'churn', 'internet_service_type_id.1',\n",
       "       'internet_service_type', 'payment_type_id.1', 'payment_type',\n",
       "       'contract_type_id.1', 'contract_type', 'outlier_charges',\n",
       "       'outlier_tenure'],\n",
       "      dtype='object')"
      ]
     },
     "execution_count": 10,
     "metadata": {},
     "output_type": "execute_result"
    }
   ],
   "source": [
    "telco.columns"
   ]
  },
  {
   "cell_type": "code",
   "execution_count": 11,
   "metadata": {},
   "outputs": [
    {
     "data": {
      "image/png": "[encoded data removed]",
      "text/plain": [
       "<Figure size 432x288 with 1 Axes>"
      ]
     },
     "metadata": {
      "needs_background": "light"
     },
     "output_type": "display_data"
    },
    {
     "data": {
      "image/png": "[encoded data removed]",
      "text/plain": [
       "<Figure size 432x288 with 1 Axes>"
      ]
     },
     "metadata": {
      "needs_background": "light"
     },
     "output_type": "display_data"
    },
    {
     "data": {
      "image/png": "[encoded data removed]",
      "text/plain": [
       "<Figure size 432x288 with 1 Axes>"
      ]
     },
     "metadata": {
      "needs_background": "light"
     },
     "output_type": "display_data"
    },
    {
     "data": {
      "image/png": "[encoded data removed]",
      "text/plain": [
       "<Figure size 432x288 with 1 Axes>"
      ]
     },
     "metadata": {
      "needs_background": "light"
     },
     "output_type": "display_data"
    },
    {
     "data": {
      "image/png": "[encoded data removed]",
      "text/plain": [
       "<Figure size 432x288 with 1 Axes>"
      ]
     },
     "metadata": {
      "needs_background": "light"
     },
     "output_type": "display_data"
    },
    {
     "data": {
      "image/png": "[encoded data removed]",
      "text/plain": [
       "<Figure size 432x288 with 1 Axes>"
      ]
     },
     "metadata": {
      "needs_background": "light"
     },
     "output_type": "display_data"
    },
    {
     "data": {
      "image/png": "[encoded data removed]",
      "text/plain": [
       "<Figure size 432x288 with 1 Axes>"
      ]
     },
     "metadata": {
      "needs_background": "light"
     },
     "output_type": "display_data"
    },
    {
     "data": {
      "image/png": "[encoded data removed]",
      "text/plain": [
       "<Figure size 432x288 with 1 Axes>"
      ]
     },
     "metadata": {
      "needs_background": "light"
     },
     "output_type": "display_data"
    }
   ],
   "source": [
    "num_cols = telco.columns[[telco[col].dtype == 'int64' for col in telco.columns]]\n",
    "for col in num_cols:\n",
    "    plt.hist(telco[col])\n",
    "    plt.title(col)\n",
    "    plt.show()"
   ]
  },
  {
   "cell_type": "code",
   "execution_count": 12,
   "metadata": {},
   "outputs": [],
   "source": [
    "import pandas as pd\n",
    "import numpy as np\n",
    "import acquire\n",
    "from sklearn.model_selection import train_test_split\n",
    "\n",
    "def prep_telco():\n",
    "    telco = acquire.get_telco()\n",
    "    telco.drop(columns=['internet_service_type_id.1', 'payment_type_id.1', 'contract_type_id.1', \n",
    "            'internet_service_type_id', 'payment_type_id', 'contract_type_id'], inplace = True)\n",
    "    telco.replace({'churn': {'No': 0, 'Yes': 1}}, inplace = True)\n",
    "    # Creates a tenue_year column \n",
    "    telco['tenure_year'] = round(telco['tenure']/12, 2)\n",
    "    # creates a single_no_dependents column to see if being alone impacts churn \n",
    "    telco['single_no_dependents'] = (telco['partner'] == 'No') & (telco['dependents'] == 'No')\n",
    "    # Crates a multiple phone line column to see if having phone service with multiple phone lines impacts churn\n",
    "    telco['multiple_phone_lines'] = (telco['phone_service'] == 'Yes') & (telco['multiple_lines'] == 'Yes')\n",
    "    # Creates a streaming column to look and see if a customer streams at all influences churn\n",
    "    telco['streaming'] =  (telco['streaming_tv'] == 'Yes') | (telco['streaming_movies'] == 'Yes')\n",
    "    # Creates a backedup and secured column to see if a customers who are security consicious impact churn\n",
    "    telco['backedup_and_secured'] = (telco['online_security'] == 'Yes') & (telco['online_backup'] == 'Yes')\n",
    "    # creates a has internet column to see if having internet at all impacts churn\n",
    "    telco['has_internet'] = (telco['internet_service_type'] != 'None')\n",
    "    # Turns all True and False/Yes and No values into 1s and 0s for easier analysis\n",
    "    telco = telco.applymap(lambda x: 0 if x == False else x)\n",
    "    telco = telco.applymap(lambda x: 1 if x == True else x)\n",
    "    telco = telco.applymap(lambda x: 1 if x == 'Yes' else x)\n",
    "    telco = telco.applymap(lambda x: 0 if x == 'No' else x)\n",
    "    telco = telco.applymap(lambda x: 0 if x == 'No internet service' else x)\n",
    "    telco = telco.applymap(lambda x: 0 if x == 'No phone service' else x)\n",
    "    # Splits the df into train, validate, test sets for analysis\n",
    "    train_validate, test = train_test_split(telco, test_size=.2, random_state=333, stratify=telco.churn)\n",
    "    train, validate = train_test_split(train_validate, \n",
    "                                       test_size=.25, \n",
    "                                       random_state=333, \n",
    "                                       stratify=train_validate.churn)\n",
    "    return train, validate, test, telco"
   ]
  },
  {
   "cell_type": "markdown",
   "metadata": {},
   "source": [
    "### Runs the prep_telco function for testing purposes"
   ]
  },
  {
   "cell_type": "code",
   "execution_count": 13,
   "metadata": {},
   "outputs": [],
   "source": [
    "train, validate, test, telco = prep_telco()"
   ]
  },
  {
   "cell_type": "code",
   "execution_count": 14,
   "metadata": {},
   "outputs": [
    {
     "data": {
      "text/html": [
       "<div>\n",
       "<style scoped>\n",
       "    .dataframe tbody tr th:only-of-type {\n",
       "        vertical-align: middle;\n",
       "    }\n",
       "\n",
       "    .dataframe tbody tr th {\n",
       "        vertical-align: top;\n",
       "    }\n",
       "\n",
       "    .dataframe thead th {\n",
       "        text-align: right;\n",
       "    }\n",
       "</style>\n",
       "<table border=\"1\" class=\"dataframe\">\n",
       "  <thead>\n",
       "    <tr style=\"text-align: right;\">\n",
       "      <th></th>\n",
       "      <th>customer_id</th>\n",
       "      <th>gender</th>\n",
       "      <th>senior_citizen</th>\n",
       "      <th>partner</th>\n",
       "      <th>dependents</th>\n",
       "      <th>tenure</th>\n",
       "      <th>phone_service</th>\n",
       "      <th>multiple_lines</th>\n",
       "      <th>online_security</th>\n",
       "      <th>online_backup</th>\n",
       "      <th>...</th>\n",
       "      <th>churn</th>\n",
       "      <th>internet_service_type</th>\n",
       "      <th>payment_type</th>\n",
       "      <th>contract_type</th>\n",
       "      <th>tenure_year</th>\n",
       "      <th>single_no_dependents</th>\n",
       "      <th>multiple_phone_lines</th>\n",
       "      <th>streaming</th>\n",
       "      <th>backedup_and_secured</th>\n",
       "      <th>has_internet</th>\n",
       "    </tr>\n",
       "  </thead>\n",
       "  <tbody>\n",
       "    <tr>\n",
       "      <th>4936</th>\n",
       "      <td>6959-GQEGV</td>\n",
       "      <td>Male</td>\n",
       "      <td>0</td>\n",
       "      <td>0</td>\n",
       "      <td>0</td>\n",
       "      <td>45</td>\n",
       "      <td>1</td>\n",
       "      <td>0</td>\n",
       "      <td>1</td>\n",
       "      <td>0</td>\n",
       "      <td>...</td>\n",
       "      <td>0</td>\n",
       "      <td>DSL</td>\n",
       "      <td>Electronic check</td>\n",
       "      <td>Month-to-month</td>\n",
       "      <td>3.75</td>\n",
       "      <td>1</td>\n",
       "      <td>0</td>\n",
       "      <td>1</td>\n",
       "      <td>0</td>\n",
       "      <td>1</td>\n",
       "    </tr>\n",
       "  </tbody>\n",
       "</table>\n",
       "<p>1 rows × 27 columns</p>\n",
       "</div>"
      ],
      "text/plain": [
       "     customer_id gender  senior_citizen  partner  dependents  tenure  \\\n",
       "4936  6959-GQEGV   Male               0        0           0      45   \n",
       "\n",
       "      phone_service  multiple_lines  online_security  online_backup  ...  \\\n",
       "4936              1               0                1              0  ...   \n",
       "\n",
       "      churn  internet_service_type      payment_type   contract_type  \\\n",
       "4936      0                    DSL  Electronic check  Month-to-month   \n",
       "\n",
       "      tenure_year  single_no_dependents multiple_phone_lines  streaming  \\\n",
       "4936         3.75                     1                    0          1   \n",
       "\n",
       "     backedup_and_secured has_internet  \n",
       "4936                    0            1  \n",
       "\n",
       "[1 rows x 27 columns]"
      ]
     },
     "execution_count": 14,
     "metadata": {},
     "output_type": "execute_result"
    }
   ],
   "source": [
    "train.head(1)"
   ]
  },
  {
   "cell_type": "code",
   "execution_count": 15,
   "metadata": {},
   "outputs": [
    {
     "data": {
      "text/html": [
       "<div>\n",
       "<style scoped>\n",
       "    .dataframe tbody tr th:only-of-type {\n",
       "        vertical-align: middle;\n",
       "    }\n",
       "\n",
       "    .dataframe tbody tr th {\n",
       "        vertical-align: top;\n",
       "    }\n",
       "\n",
       "    .dataframe thead th {\n",
       "        text-align: right;\n",
       "    }\n",
       "</style>\n",
       "<table border=\"1\" class=\"dataframe\">\n",
       "  <thead>\n",
       "    <tr style=\"text-align: right;\">\n",
       "      <th></th>\n",
       "      <th>customer_id</th>\n",
       "      <th>gender</th>\n",
       "      <th>senior_citizen</th>\n",
       "      <th>partner</th>\n",
       "      <th>dependents</th>\n",
       "      <th>tenure</th>\n",
       "      <th>phone_service</th>\n",
       "      <th>multiple_lines</th>\n",
       "      <th>online_security</th>\n",
       "      <th>online_backup</th>\n",
       "      <th>...</th>\n",
       "      <th>churn</th>\n",
       "      <th>internet_service_type</th>\n",
       "      <th>payment_type</th>\n",
       "      <th>contract_type</th>\n",
       "      <th>tenure_year</th>\n",
       "      <th>single_no_dependents</th>\n",
       "      <th>multiple_phone_lines</th>\n",
       "      <th>streaming</th>\n",
       "      <th>backedup_and_secured</th>\n",
       "      <th>has_internet</th>\n",
       "    </tr>\n",
       "  </thead>\n",
       "  <tbody>\n",
       "    <tr>\n",
       "      <th>2017</th>\n",
       "      <td>3961-SXAXY</td>\n",
       "      <td>Male</td>\n",
       "      <td>0</td>\n",
       "      <td>0</td>\n",
       "      <td>0</td>\n",
       "      <td>1</td>\n",
       "      <td>1</td>\n",
       "      <td>0</td>\n",
       "      <td>0</td>\n",
       "      <td>0</td>\n",
       "      <td>...</td>\n",
       "      <td>0</td>\n",
       "      <td>DSL</td>\n",
       "      <td>Bank transfer (automatic)</td>\n",
       "      <td>Month-to-month</td>\n",
       "      <td>0.08</td>\n",
       "      <td>1</td>\n",
       "      <td>0</td>\n",
       "      <td>0</td>\n",
       "      <td>0</td>\n",
       "      <td>1</td>\n",
       "    </tr>\n",
       "  </tbody>\n",
       "</table>\n",
       "<p>1 rows × 27 columns</p>\n",
       "</div>"
      ],
      "text/plain": [
       "     customer_id gender  senior_citizen  partner  dependents  tenure  \\\n",
       "2017  3961-SXAXY   Male               0        0           0       1   \n",
       "\n",
       "      phone_service  multiple_lines  online_security  online_backup  ...  \\\n",
       "2017              1               0                0              0  ...   \n",
       "\n",
       "      churn  internet_service_type               payment_type   contract_type  \\\n",
       "2017      0                    DSL  Bank transfer (automatic)  Month-to-month   \n",
       "\n",
       "      tenure_year  single_no_dependents multiple_phone_lines  streaming  \\\n",
       "2017         0.08                     1                    0          0   \n",
       "\n",
       "     backedup_and_secured has_internet  \n",
       "2017                    0            1  \n",
       "\n",
       "[1 rows x 27 columns]"
      ]
     },
     "execution_count": 15,
     "metadata": {},
     "output_type": "execute_result"
    }
   ],
   "source": [
    "validate.head(1)"
   ]
  },
  {
   "cell_type": "code",
   "execution_count": 16,
   "metadata": {},
   "outputs": [
    {
     "data": {
      "text/html": [
       "<div>\n",
       "<style scoped>\n",
       "    .dataframe tbody tr th:only-of-type {\n",
       "        vertical-align: middle;\n",
       "    }\n",
       "\n",
       "    .dataframe tbody tr th {\n",
       "        vertical-align: top;\n",
       "    }\n",
       "\n",
       "    .dataframe thead th {\n",
       "        text-align: right;\n",
       "    }\n",
       "</style>\n",
       "<table border=\"1\" class=\"dataframe\">\n",
       "  <thead>\n",
       "    <tr style=\"text-align: right;\">\n",
       "      <th></th>\n",
       "      <th>customer_id</th>\n",
       "      <th>gender</th>\n",
       "      <th>senior_citizen</th>\n",
       "      <th>partner</th>\n",
       "      <th>dependents</th>\n",
       "      <th>tenure</th>\n",
       "      <th>phone_service</th>\n",
       "      <th>multiple_lines</th>\n",
       "      <th>online_security</th>\n",
       "      <th>online_backup</th>\n",
       "      <th>...</th>\n",
       "      <th>churn</th>\n",
       "      <th>internet_service_type</th>\n",
       "      <th>payment_type</th>\n",
       "      <th>contract_type</th>\n",
       "      <th>tenure_year</th>\n",
       "      <th>single_no_dependents</th>\n",
       "      <th>multiple_phone_lines</th>\n",
       "      <th>streaming</th>\n",
       "      <th>backedup_and_secured</th>\n",
       "      <th>has_internet</th>\n",
       "    </tr>\n",
       "  </thead>\n",
       "  <tbody>\n",
       "    <tr>\n",
       "      <th>5534</th>\n",
       "      <td>6986-IXNDM</td>\n",
       "      <td>Male</td>\n",
       "      <td>0</td>\n",
       "      <td>0</td>\n",
       "      <td>0</td>\n",
       "      <td>14</td>\n",
       "      <td>1</td>\n",
       "      <td>0</td>\n",
       "      <td>0</td>\n",
       "      <td>0</td>\n",
       "      <td>...</td>\n",
       "      <td>0</td>\n",
       "      <td>Fiber optic</td>\n",
       "      <td>Electronic check</td>\n",
       "      <td>Month-to-month</td>\n",
       "      <td>1.17</td>\n",
       "      <td>1</td>\n",
       "      <td>0</td>\n",
       "      <td>1</td>\n",
       "      <td>0</td>\n",
       "      <td>1</td>\n",
       "    </tr>\n",
       "  </tbody>\n",
       "</table>\n",
       "<p>1 rows × 27 columns</p>\n",
       "</div>"
      ],
      "text/plain": [
       "     customer_id gender  senior_citizen  partner  dependents  tenure  \\\n",
       "5534  6986-IXNDM   Male               0        0           0      14   \n",
       "\n",
       "      phone_service  multiple_lines  online_security  online_backup  ...  \\\n",
       "5534              1               0                0              0  ...   \n",
       "\n",
       "      churn  internet_service_type      payment_type   contract_type  \\\n",
       "5534      0            Fiber optic  Electronic check  Month-to-month   \n",
       "\n",
       "      tenure_year  single_no_dependents multiple_phone_lines  streaming  \\\n",
       "5534         1.17                     1                    0          1   \n",
       "\n",
       "     backedup_and_secured has_internet  \n",
       "5534                    0            1  \n",
       "\n",
       "[1 rows x 27 columns]"
      ]
     },
     "execution_count": 16,
     "metadata": {},
     "output_type": "execute_result"
    }
   ],
   "source": [
    "test.head(1)"
   ]
  },
  {
   "cell_type": "code",
   "execution_count": 17,
   "metadata": {},
   "outputs": [
    {
     "data": {
      "text/html": [
       "<div>\n",
       "<style scoped>\n",
       "    .dataframe tbody tr th:only-of-type {\n",
       "        vertical-align: middle;\n",
       "    }\n",
       "\n",
       "    .dataframe tbody tr th {\n",
       "        vertical-align: top;\n",
       "    }\n",
       "\n",
       "    .dataframe thead th {\n",
       "        text-align: right;\n",
       "    }\n",
       "</style>\n",
       "<table border=\"1\" class=\"dataframe\">\n",
       "  <thead>\n",
       "    <tr style=\"text-align: right;\">\n",
       "      <th></th>\n",
       "      <th>customer_id</th>\n",
       "      <th>gender</th>\n",
       "      <th>senior_citizen</th>\n",
       "      <th>partner</th>\n",
       "      <th>dependents</th>\n",
       "      <th>tenure</th>\n",
       "      <th>phone_service</th>\n",
       "      <th>multiple_lines</th>\n",
       "      <th>online_security</th>\n",
       "      <th>online_backup</th>\n",
       "      <th>...</th>\n",
       "      <th>churn</th>\n",
       "      <th>internet_service_type</th>\n",
       "      <th>payment_type</th>\n",
       "      <th>contract_type</th>\n",
       "      <th>tenure_year</th>\n",
       "      <th>single_no_dependents</th>\n",
       "      <th>multiple_phone_lines</th>\n",
       "      <th>streaming</th>\n",
       "      <th>backedup_and_secured</th>\n",
       "      <th>has_internet</th>\n",
       "    </tr>\n",
       "  </thead>\n",
       "  <tbody>\n",
       "    <tr>\n",
       "      <th>0</th>\n",
       "      <td>0002-ORFBO</td>\n",
       "      <td>Female</td>\n",
       "      <td>0</td>\n",
       "      <td>1</td>\n",
       "      <td>1</td>\n",
       "      <td>9</td>\n",
       "      <td>1</td>\n",
       "      <td>0</td>\n",
       "      <td>0</td>\n",
       "      <td>1</td>\n",
       "      <td>...</td>\n",
       "      <td>0</td>\n",
       "      <td>DSL</td>\n",
       "      <td>Mailed check</td>\n",
       "      <td>One year</td>\n",
       "      <td>0.75</td>\n",
       "      <td>0</td>\n",
       "      <td>0</td>\n",
       "      <td>1</td>\n",
       "      <td>0</td>\n",
       "      <td>1</td>\n",
       "    </tr>\n",
       "  </tbody>\n",
       "</table>\n",
       "<p>1 rows × 27 columns</p>\n",
       "</div>"
      ],
      "text/plain": [
       "  customer_id  gender  senior_citizen  partner  dependents  tenure  \\\n",
       "0  0002-ORFBO  Female               0        1           1       9   \n",
       "\n",
       "   phone_service  multiple_lines  online_security  online_backup  ...  churn  \\\n",
       "0              1               0                0              1  ...      0   \n",
       "\n",
       "   internet_service_type  payment_type  contract_type  tenure_year  \\\n",
       "0                    DSL  Mailed check       One year         0.75   \n",
       "\n",
       "   single_no_dependents multiple_phone_lines  streaming backedup_and_secured  \\\n",
       "0                     0                    0          1                    0   \n",
       "\n",
       "  has_internet  \n",
       "0            1  \n",
       "\n",
       "[1 rows x 27 columns]"
      ]
     },
     "execution_count": 17,
     "metadata": {},
     "output_type": "execute_result"
    }
   ],
   "source": [
    "telco.head(1)"
   ]
  },
  {
   "cell_type": "code",
   "execution_count": null,
   "metadata": {},
   "outputs": [],
   "source": []
  }
 ],
 "metadata": {
  "kernelspec": {
   "display_name": "Python 3",
   "language": "python",
   "name": "python3"
  },
  "language_info": {
   "codemirror_mode": {
    "name": "ipython",
    "version": 3
   },
   "file_extension": ".py",
   "mimetype": "text/x-python",
   "name": "python",
   "nbconvert_exporter": "python",
   "pygments_lexer": "ipython3",
   "version": "3.8.3"
  }
 },
 "nbformat": 4,
 "nbformat_minor": 4
}
