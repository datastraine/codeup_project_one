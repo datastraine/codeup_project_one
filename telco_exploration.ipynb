{
 "cells": [
  {
   "cell_type": "markdown",
   "metadata": {},
   "source": [
    "# Telco Exploration\n",
    "\n",
    "In this notebook we will explore the data in our train data set and form hypthosis based on our findings. The intital hypthosis I have is \n",
    "\n",
    "* $H\\alpha$ - There is a relationship between fiber internet customers and customers who churn\n",
    "* $H0$ - There is no relationship between fiber internet cumstomers and customers who churn"
   ]
  },
  {
   "cell_type": "code",
   "execution_count": 64,
   "metadata": {},
   "outputs": [
    {
     "name": "stdout",
     "output_type": "stream",
     "text": [
      "Success\n"
     ]
    }
   ],
   "source": [
    "import numpy as np\n",
    "import pandas as pd\n",
    "import seaborn as sns\n",
    "import matplotlib as plt\n",
    "import prepare\n",
    "from scipy import stats\n",
    "from sklearn.metrics import classification_report\n",
    "from sklearn.metrics import confusion_matrix\n",
    "from sklearn.metrics import recall_score\n",
    "from sklearn.metrics import accuracy_score\n",
    "from sklearn.metrics import precision_score\n",
    "print(\"Success\")"
   ]
  },
  {
   "cell_type": "code",
   "execution_count": 65,
   "metadata": {
    "scrolled": true
   },
   "outputs": [
    {
     "data": {
      "text/plain": [
       "customer_id              0\n",
       "gender                   0\n",
       "senior_citizen           0\n",
       "partner                  0\n",
       "dependents               0\n",
       "tenure                   0\n",
       "phone_service            0\n",
       "multiple_lines           0\n",
       "online_security          0\n",
       "online_backup            0\n",
       "device_protection        0\n",
       "tech_support             0\n",
       "streaming_tv             0\n",
       "streaming_movies         0\n",
       "paperless_billing        0\n",
       "monthly_charges          0\n",
       "total_charges            0\n",
       "churn                    0\n",
       "internet_service_type    0\n",
       "payment_type             0\n",
       "contract_type            0\n",
       "tenure_year              0\n",
       "single_no_dependents     0\n",
       "multiple_phone_lines     0\n",
       "streaming                0\n",
       "backedup_and_secured     0\n",
       "has_internet             0\n",
       "monthly_75+              0\n",
       "dtype: int64"
      ]
     },
     "execution_count": 65,
     "metadata": {},
     "output_type": "execute_result"
    }
   ],
   "source": [
    "# Import the data from the prepare file and assign it each data frame to the proper components\n",
    "train, validate, test, telco = prepare.prep_telco()\n",
    "# print data types to make sure they reflect what we expect\n",
    "telco.isnull().sum()\n"
   ]
  },
  {
   "cell_type": "markdown",
   "metadata": {},
   "source": [
    "My intital hypthosis is trying to determine if there is a relationship between customers who churn and customers who have fiber internet. This means that we should use a **Chi Squared Test**. Below we run the test and determine whether or not the two catagories are related."
   ]
  },
  {
   "cell_type": "code",
   "execution_count": 3,
   "metadata": {},
   "outputs": [
    {
     "name": "stdout",
     "output_type": "stream",
     "text": [
      "Observed\n",
      "\n",
      "[[3364 1799]\n",
      " [ 572 1297]]\n",
      "---\n",
      "Expected\n",
      "\n",
      "[[2889.87030717 2273.12969283]\n",
      " [1046.12969283  822.87030717]]\n",
      "---\n",
      "\n",
      "chi^2 = 663.3565\n",
      "p     = 0.0000\n",
      "Reject H0\n"
     ]
    }
   ],
   "source": [
    "a = .05\n",
    "observed = pd.crosstab(telco.churn, (telco['internet_service_type'] == 'Fiber optic'))\n",
    "chi2, p, degf, expected = stats.chi2_contingency(observed)\n",
    "\n",
    "print('Observed\\n')\n",
    "print(observed.values)\n",
    "print('---\\nExpected\\n')\n",
    "print(expected)\n",
    "print('---\\n')\n",
    "print(f'chi^2 = {chi2:.4f}')\n",
    "print(f'p     = {p:.4f}')\n",
    "\n",
    "if p < a:\n",
    "    print('Reject H0')\n",
    "else:\n",
    "    print(\"Fail to reject H0\")\n",
    "\n"
   ]
  },
  {
   "cell_type": "markdown",
   "metadata": {},
   "source": [
    "While we can reject the null hypthosis due to the P value being very small, the chi^2 value is very high which leads tends to mean that the relationship is not very strong. We should look for othe values to train our model on. Our next hypthosis will be:\n",
    "\n",
    "* $H\\alpha$ - There is a relationship between internet customers and customers who churn\n",
    "* $H0$ - There is no relationship between internet cumstomers and customers who churn\n",
    "\n",
    "This will also use a chi^2 test."
   ]
  },
  {
   "cell_type": "code",
   "execution_count": 4,
   "metadata": {},
   "outputs": [
    {
     "name": "stdout",
     "output_type": "stream",
     "text": [
      "Observed\n",
      "\n",
      "[[1407 3756]\n",
      " [ 113 1756]]\n",
      "---\n",
      "Expected\n",
      "\n",
      "[[1116.00682594 4046.99317406]\n",
      " [ 403.99317406 1465.00682594]]\n",
      "---\n",
      "\n",
      "chi^2 = 362.9478\n",
      "p     = 0.0000\n",
      "Reject H0\n"
     ]
    }
   ],
   "source": [
    "observed = pd.crosstab(telco.churn, telco.has_internet)\n",
    "chi2, p, degf, expected = stats.chi2_contingency(observed)\n",
    "\n",
    "print('Observed\\n')\n",
    "print(observed.values)\n",
    "print('---\\nExpected\\n')\n",
    "print(expected)\n",
    "print('---\\n')\n",
    "print(f'chi^2 = {chi2:.4f}')\n",
    "print(f'p     = {p:.4f}')\n",
    "\n",
    "if p < a:\n",
    "    print('Reject H0')\n",
    "else:\n",
    "    print(\"Fail to reject H0\")\n",
    "\n"
   ]
  },
  {
   "cell_type": "markdown",
   "metadata": {},
   "source": [
    "There again exists a realtionship between internet customers and customers who churn; however, the chi^2 value is also high. Let's test another hypthosis.\n",
    "\n",
    "* $H\\alpha$ - The average monthly charage of customers who churn is greather than the average monthly charage of all customers\n",
    "* $H0$ - The average monthly charage of customer who churn is equal to the customer monthly average\n",
    "\n",
    "Since we are comparing a continuious varaible to catagorical varaible (churn) and we are looking at one end of the tail we will use a **One Tail T-test**"
   ]
  },
  {
   "cell_type": "code",
   "execution_count": 5,
   "metadata": {
    "scrolled": true
   },
   "outputs": [
    {
     "name": "stdout",
     "output_type": "stream",
     "text": [
      "16.685281538217694 1.1366940575678459e-58 0.05\n",
      "We reject $H_{0}$\n"
     ]
    }
   ],
   "source": [
    "churn_sample = telco[telco.churn==1].monthly_charges\n",
    "overall_mean = telco.monthly_charges.mean()\n",
    "\n",
    "t, p = stats.ttest_1samp(churn_sample, overall_mean)\n",
    "\n",
    "print(t, p/2, a)\n",
    "\n",
    "if p/2 > a:\n",
    "    print(\"We fail to reject $H_{0}$\")\n",
    "elif t < 0:\n",
    "    print(\"We fail to reject $H_{0}$\")\n",
    "else:\n",
    "    print(\"We reject $H_{0}$\")"
   ]
  },
  {
   "cell_type": "markdown",
   "metadata": {},
   "source": [
    "There appears to be a \n",
    "\n",
    "* $H\\alpha$ - The average monthly charage of customers who churn != the average monthly charage of customers that stay\n",
    "* $H0$ - The average monthly charage of customer who churn = the average monthly charage of customers that stay\n",
    "\n",
    "Since we are comparing a continuious varaible to catagorical varaible (churn) and we are looking at both ends of the tail we will use a **Two Tail T-test**"
   ]
  },
  {
   "cell_type": "code",
   "execution_count": 6,
   "metadata": {},
   "outputs": [
    {
     "name": "stdout",
     "output_type": "stream",
     "text": [
      "t=18.174510616491737, p=4.754563808455743e-71\n",
      "We reject $H_{0}$\n"
     ]
    }
   ],
   "source": [
    "churn_sample = telco[telco.churn==1].monthly_charges\n",
    "stay_sample = telco[telco.churn==0].monthly_charges\n",
    "\n",
    "t, p = stats.ttest_ind(churn_sample, stay_sample, equal_var=False)\n",
    "\n",
    "print(f\"t={t}, p={p}\")\n",
    "\n",
    "if p/2 > a:\n",
    "    print(\"We fail to reject $H_{0}$\")\n",
    "elif t < 0:\n",
    "    print(\"We fail to reject $H_{0}$\")\n",
    "else:\n",
    "    print(\"We reject $H_{0}$\")"
   ]
  },
  {
   "cell_type": "markdown",
   "metadata": {},
   "source": [
    "Let's also test to see whether or not customers who spend more than $75/mo are more likely to churn than those who do not.\n",
    "\n",
    "* $H\\alpha$ - There exist a realtionship between customers who spend 75 or more and customers who churn\n",
    "* $H0$ - There is not a realtionship between customers who spend 75 or more and customers who churn\n",
    "\n",
    "\n",
    "This will also use a chi^2 test."
   ]
  },
  {
   "cell_type": "code",
   "execution_count": 11,
   "metadata": {},
   "outputs": [
    {
     "name": "stdout",
     "output_type": "stream",
     "text": [
      "Observed\n",
      "\n",
      "[[3122 2041]\n",
      " [ 790 1079]]\n",
      "---\n",
      "Expected\n",
      "\n",
      "[[2872.24914676 2290.75085324]\n",
      " [1039.75085324  829.24914676]]\n",
      "---\n",
      "\n",
      "chi^2 = 183.4193\n",
      "p     = 0.0000\n",
      "Reject H0\n"
     ]
    }
   ],
   "source": [
    "observed = pd.crosstab(telco.churn, telco['monthly_75+'])\n",
    "chi2, p, degf, expected = stats.chi2_contingency(observed)\n",
    "\n",
    "print('Observed\\n')\n",
    "print(observed.values)\n",
    "print('---\\nExpected\\n')\n",
    "print(expected)\n",
    "print('---\\n')\n",
    "print(f'chi^2 = {chi2:.4f}')\n",
    "print(f'p     = {p:.4f}')\n",
    "\n",
    "if p < a:\n",
    "    print('Reject H0')\n",
    "else:\n",
    "    print(\"Fail to reject H0\")"
   ]
  },
  {
   "cell_type": "markdown",
   "metadata": {},
   "source": [
    "Let's also test to see whether or not customers who stream and churn.\n",
    "\n",
    "* $H\\alpha$ - There exist a realtionship between customers who spend stream and churn\n",
    "* $H0$ - There is not a realtionship between customers who spend stream and churn\n",
    "\n",
    "\n",
    "This will also use a chi^2 test."
   ]
  },
  {
   "cell_type": "code",
   "execution_count": 8,
   "metadata": {
    "scrolled": false
   },
   "outputs": [
    {
     "name": "stdout",
     "output_type": "stream",
     "text": [
      "Observed\n",
      "\n",
      "[[2729 2434]\n",
      " [ 808 1061]]\n",
      "---\n",
      "Expected\n",
      "\n",
      "[[2596.91851536 2566.08148464]\n",
      " [ 940.08148464  928.91851536]]\n",
      "---\n",
      "\n",
      "chi^2 = 50.4699\n",
      "p     = 0.0000\n",
      "Reject H0\n"
     ]
    }
   ],
   "source": [
    "observed = pd.crosstab(telco.churn, telco.streaming)\n",
    "chi2, p, degf, expected = stats.chi2_contingency(observed)\n",
    "\n",
    "print('Observed\\n')\n",
    "print(observed.values)\n",
    "print('---\\nExpected\\n')\n",
    "print(expected)\n",
    "print('---\\n')\n",
    "print(f'chi^2 = {chi2:.4f}')\n",
    "print(f'p     = {p:.4f}')\n",
    "\n",
    "if p < a:\n",
    "    print('Reject H0')\n",
    "else:\n",
    "    print(\"Fail to reject H0\")"
   ]
  },
  {
   "cell_type": "markdown",
   "metadata": {},
   "source": [
    "From the aboave statistical samplings we know the following:\n",
    "* Whether a customer has internet or not has a impact on churn\n",
    "* Whether a customer has fiber or not impacts churn\n",
    "* Customers who churn spend more each month than customers who don't churn \n",
    "* Customers who churn spend more than the average\n",
    "* There is a realtionship between customers who spend 90 or more and those who churn\n",
    "* There is a realtionship between customers who stream and those that churn\n",
    "\n",
    "Let's begin to build a model."
   ]
  },
  {
   "cell_type": "code",
   "execution_count": 9,
   "metadata": {},
   "outputs": [
    {
     "data": {
      "text/plain": [
       "0.7342342342342343"
      ]
     },
     "execution_count": 9,
     "metadata": {},
     "output_type": "execute_result"
    }
   ],
   "source": [
    "train['baseline'] = 0\n",
    "base_accuracy = (train['churn'] == train['baseline']).mean()\n",
    "base_accuracy"
   ]
  },
  {
   "cell_type": "markdown",
   "metadata": {},
   "source": [
    "# Model 1 - Decision Tree\n",
    "\n",
    "I will build a decision tree based on the above statiscially significant catagorical features to try and predict churn"
   ]
  },
  {
   "cell_type": "code",
   "execution_count": 66,
   "metadata": {
    "scrolled": false
   },
   "outputs": [
    {
     "name": "stdout",
     "output_type": "stream",
     "text": [
      "Accuracy of Decision Tree classifier on training set: 0.73\n",
      "[[3097    0]\n",
      " [1121    0]]\n",
      "              precision    recall  f1-score   support\n",
      "\n",
      "           0       0.73      1.00      0.85      3097\n",
      "           1       0.00      0.00      0.00      1121\n",
      "\n",
      "    accuracy                           0.73      4218\n",
      "   macro avg       0.37      0.50      0.42      4218\n",
      "weighted avg       0.54      0.73      0.62      4218\n",
      "\n"
     ]
    },
    {
     "name": "stderr",
     "output_type": "stream",
     "text": [
      "C:\\Users\\anthony\\anaconda3\\lib\\site-packages\\sklearn\\metrics\\_classification.py:1221: UndefinedMetricWarning: Precision and F-score are ill-defined and being set to 0.0 in labels with no predicted samples. Use `zero_division` parameter to control this behavior.\n",
      "  _warn_prf(average, modifier, msg_start, len(result))\n"
     ]
    }
   ],
   "source": [
    "from sklearn.tree import DecisionTreeClassifier\n",
    "\n",
    "X = train[['streaming', 'has_internet', 'monthly_75+']]\n",
    "y = train[['churn']]\n",
    "\n",
    "clf = DecisionTreeClassifier(max_depth=5, random_state=333)\n",
    "clf.fit(X, y)\n",
    "y_pred = clf.predict(X)\n",
    "y_pred_proba = clf.predict_proba(X)\n",
    "\n",
    "\n",
    "print('Accuracy of Decision Tree classifier on training set: {:.2f}'\n",
    "     .format(clf.score(X, y)))\n",
    "print(confusion_matrix(y, y_pred))\n",
    "print(classification_report(y, y_pred))"
   ]
  },
  {
   "cell_type": "markdown",
   "metadata": {},
   "source": [
    "Model 1 is a bust because..."
   ]
  },
  {
   "cell_type": "code",
   "execution_count": 67,
   "metadata": {},
   "outputs": [
    {
     "name": "stdout",
     "output_type": "stream",
     "text": [
      "              precision    recall  f1-score   support\n",
      "\n",
      "           0       0.73      1.00      0.85      3097\n",
      "           1       0.00      0.00      0.00      1121\n",
      "\n",
      "    accuracy                           0.73      4218\n",
      "   macro avg       0.37      0.50      0.42      4218\n",
      "weighted avg       0.54      0.73      0.62      4218\n",
      "\n"
     ]
    },
    {
     "name": "stderr",
     "output_type": "stream",
     "text": [
      "C:\\Users\\anthony\\anaconda3\\lib\\site-packages\\sklearn\\metrics\\_classification.py:1221: UndefinedMetricWarning: Precision and F-score are ill-defined and being set to 0.0 in labels with no predicted samples. Use `zero_division` parameter to control this behavior.\n",
      "  _warn_prf(average, modifier, msg_start, len(result))\n"
     ]
    },
    {
     "data": {
      "text/plain": [
       "array([[3097,    0],\n",
       "       [1121,    0]], dtype=int64)"
      ]
     },
     "execution_count": 67,
     "metadata": {},
     "output_type": "execute_result"
    }
   ],
   "source": [
    "from sklearn.linear_model import LogisticRegression\n",
    "\n",
    "logit = LogisticRegression(fit_intercept=True, random_state=333)\n",
    "\n",
    "logit = logit.fit(train[['tenure']], train['churn'])\n",
    "y_pred = logit.predict(train[['churn']])\n",
    "y_pred_proba = logit.predict_proba(train[['churn']])\n",
    "print(classification_report(train.churn, y_pred))\n",
    "confusion_matrix(train.churn, y_pred)"
   ]
  },
  {
   "cell_type": "code",
   "execution_count": null,
   "metadata": {},
   "outputs": [],
   "source": []
  }
 ],
 "metadata": {
  "kernelspec": {
   "display_name": "Python 3",
   "language": "python",
   "name": "python3"
  },
  "language_info": {
   "codemirror_mode": {
    "name": "ipython",
    "version": 3
   },
   "file_extension": ".py",
   "mimetype": "text/x-python",
   "name": "python",
   "nbconvert_exporter": "python",
   "pygments_lexer": "ipython3",
   "version": "3.8.3"
  }
 },
 "nbformat": 4,
 "nbformat_minor": 4
}
