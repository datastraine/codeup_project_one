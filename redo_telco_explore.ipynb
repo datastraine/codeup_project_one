{
 "cells": [
  {
   "cell_type": "markdown",
   "metadata": {},
   "source": [
    "# Telco Exploration\n",
    "\n",
    "In this notebook we will explore the data in our train data set and form hypthosis based on our findings. The intital hypthosis I have is \n",
    "\n",
    "* $H\\alpha$ - There is a relationship between fiber internet customers and customers who churn\n",
    "* $H0$ - There is no relationship between fiber internet cumstomers and customers who churn"
   ]
  },
  {
   "cell_type": "code",
   "execution_count": 43,
   "metadata": {},
   "outputs": [
    {
     "name": "stdout",
     "output_type": "stream",
     "text": [
      "Success\n"
     ]
    }
   ],
   "source": [
    "import numpy as np\n",
    "import pandas as pd\n",
    "import seaborn as sns\n",
    "import matplotlib as plt\n",
    "import prepare\n",
    "from scipy import stats\n",
    "from sklearn.metrics import classification_report\n",
    "from sklearn.metrics import confusion_matrix\n",
    "from sklearn.metrics import recall_score\n",
    "from sklearn.metrics import accuracy_score\n",
    "from sklearn.metrics import precision_score\n",
    "print(\"Success\")"
   ]
  },
  {
   "cell_type": "code",
   "execution_count": 44,
   "metadata": {
    "scrolled": true
   },
   "outputs": [
    {
     "data": {
      "text/plain": [
       "Index(['customer_id', 'gender', 'senior_citizen', 'partner', 'dependents',\n",
       "       'tenure', 'phone_service', 'multiple_lines', 'internet_service_type_id',\n",
       "       'online_security', 'online_backup', 'device_protection', 'tech_support',\n",
       "       'streaming_tv', 'streaming_movies', 'contract_type_id',\n",
       "       'paperless_billing', 'payment_type_id', 'monthly_charges',\n",
       "       'total_charges', 'churn', 'internet_service_type', 'payment_type',\n",
       "       'contract_type', 'is_alone', 'tenure_year', 'additional_services',\n",
       "       'has_streaming', 'has_internet', 'auto_pay', 'has_fiber'],\n",
       "      dtype='object')"
      ]
     },
     "execution_count": 44,
     "metadata": {},
     "output_type": "execute_result"
    }
   ],
   "source": [
    "# Import the data from the prepare file and assign it each data frame to the proper components\n",
    "train, validate, test = prepare.prep_telco()\n",
    "# print data types to make sure they reflect what we expect\n",
    "train.columns"
   ]
  },
  {
   "cell_type": "markdown",
   "metadata": {},
   "source": [
    "My intital hypthosis is trying to determine if there is a relationship between customers who churn and customers who have fiber internet. This means that we should use a **Chi Squared Test**. Below we run the test and determine whether or not the two catagories are related."
   ]
  },
  {
   "cell_type": "code",
   "execution_count": 45,
   "metadata": {},
   "outputs": [
    {
     "name": "stdout",
     "output_type": "stream",
     "text": [
      "Observed\n",
      "\n",
      "[[2011 1086]\n",
      " [ 345  776]]\n",
      "---\n",
      "Expected\n",
      "\n",
      "[[1729.85585586 1367.14414414]\n",
      " [ 626.14414414  494.85585586]]\n",
      "---\n",
      "\n",
      "chi^2 = 388.0877\n",
      "p     = 0.0000\n",
      "Reject H0\n"
     ]
    }
   ],
   "source": [
    "a = .05\n",
    "observed = pd.crosstab(train.churn, (train['internet_service_type'] == 'Fiber optic'))\n",
    "chi2, p, degf, expected = stats.chi2_contingency(observed)\n",
    "\n",
    "print('Observed\\n')\n",
    "print(observed.values)\n",
    "print('---\\nExpected\\n')\n",
    "print(expected)\n",
    "print('---\\n')\n",
    "print(f'chi^2 = {chi2:.4f}')\n",
    "print(f'p     = {p:.4f}')\n",
    "\n",
    "if p < a:\n",
    "    print('Reject H0')\n",
    "else:\n",
    "    print(\"Fail to reject H0\")\n",
    "\n"
   ]
  },
  {
   "cell_type": "markdown",
   "metadata": {},
   "source": [
    "While we can reject the null hypthosis due to the P value being very small, the chi^2 value is very high which leads tends to mean that the relationship is not very strong. We should look for othe values to train our model on. Our next hypthosis will be:\n",
    "\n",
    "* $H\\alpha$ - There is a relationship between internet customers and customers who churn\n",
    "* $H0$ - There is no relationship between internet cumstomers and customers who churn\n",
    "\n",
    "This will also use a chi^2 test."
   ]
  },
  {
   "cell_type": "code",
   "execution_count": 46,
   "metadata": {},
   "outputs": [
    {
     "name": "stdout",
     "output_type": "stream",
     "text": [
      "Observed\n",
      "\n",
      "[[ 869 2228]\n",
      " [  62 1059]]\n",
      "---\n",
      "Expected\n",
      "\n",
      "[[ 683.57207207 2413.42792793]\n",
      " [ 247.42792793  873.57207207]]\n",
      "---\n",
      "\n",
      "chi^2 = 241.5620\n",
      "p     = 0.0000\n",
      "Reject H0\n"
     ]
    }
   ],
   "source": [
    "observed = pd.crosstab(train.churn, train.has_internet)\n",
    "chi2, p, degf, expected = stats.chi2_contingency(observed)\n",
    "\n",
    "print('Observed\\n')\n",
    "print(observed.values)\n",
    "print('---\\nExpected\\n')\n",
    "print(expected)\n",
    "print('---\\n')\n",
    "print(f'chi^2 = {chi2:.4f}')\n",
    "print(f'p     = {p:.4f}')\n",
    "\n",
    "if p < a:\n",
    "    print('Reject H0')\n",
    "else:\n",
    "    print(\"Fail to reject H0\")\n",
    "\n"
   ]
  },
  {
   "cell_type": "markdown",
   "metadata": {},
   "source": [
    "There again exists a realtionship between internet customers and customers who churn; however, the chi^2 value is also high. Let's test another hypthosis.\n",
    "\n",
    "* $H\\alpha$ - The average monthly charage of customers who churn is greather than the average monthly charage of all customers\n",
    "* $H0$ - The average monthly charage of customer who churn is equal to the customer monthly average\n",
    "\n",
    "Since we are comparing a continuious varaible to catagorical varaible (churn) and we are looking at one end of the tail we will use a **One Tail T-test**"
   ]
  },
  {
   "cell_type": "code",
   "execution_count": 47,
   "metadata": {
    "scrolled": true
   },
   "outputs": [
    {
     "name": "stdout",
     "output_type": "stream",
     "text": [
      "13.100067668543078 6.921203124772269e-37 0.05\n",
      "We reject H0\n"
     ]
    }
   ],
   "source": [
    "churn_sample = train[train.churn==1].monthly_charges\n",
    "overall_mean = train.monthly_charges.mean()\n",
    "\n",
    "t, p = stats.ttest_1samp(churn_sample, overall_mean)\n",
    "\n",
    "print(t, p/2, a)\n",
    "\n",
    "if p/2 > a:\n",
    "    print(\"We fail to reject H0\")\n",
    "elif t < 0:\n",
    "    print(\"We fail to reject H0\")\n",
    "else:\n",
    "    print(\"We reject H0\")"
   ]
  },
  {
   "cell_type": "markdown",
   "metadata": {},
   "source": [
    "There appears to be a \n",
    "\n",
    "* $H\\alpha$ - The average monthly charage of customers who churn != the average monthly charage of customers that stay\n",
    "* $H0$ - The average monthly charage of customer who churn = the average monthly charage of customers that stay\n",
    "\n",
    "Since we are comparing a continuious varaible to catagorical varaible (churn) and we are looking at both ends of the tail we will use a **Two Tail T-test**"
   ]
  },
  {
   "cell_type": "code",
   "execution_count": 48,
   "metadata": {},
   "outputs": [
    {
     "name": "stdout",
     "output_type": "stream",
     "text": [
      "t=14.210657645266926, p=4.0171796958564946e-44\n",
      "We reject H0\n"
     ]
    }
   ],
   "source": [
    "churn_sample = train[train.churn==1].monthly_charges\n",
    "stay_sample = train[train.churn==0].monthly_charges\n",
    "\n",
    "t, p = stats.ttest_ind(churn_sample, stay_sample, equal_var=False)\n",
    "\n",
    "print(f\"t={t}, p={p}\")\n",
    "\n",
    "if p/2 > a:\n",
    "    print(\"We fail to reject H0\")\n",
    "elif t < 0:\n",
    "    print(\"We fail to reject H0\")\n",
    "else:\n",
    "    print(\"We reject H0\")"
   ]
  },
  {
   "cell_type": "markdown",
   "metadata": {},
   "source": [
    "Let's also test to see whether or not customers who spend more than $75/mo are more likely to churn than those who do not.\n",
    "\n",
    "* $H\\alpha$ - There exist a realtionship between customers who have a streaming service and churn\n",
    "* $H0$ - There is not a realtionship between customers who have a streaming servic and churn\n",
    "\n",
    "\n",
    "This will also use a chi^2 test."
   ]
  },
  {
   "cell_type": "code",
   "execution_count": 49,
   "metadata": {},
   "outputs": [
    {
     "name": "stdout",
     "output_type": "stream",
     "text": [
      "Observed\n",
      "\n",
      "[[1627 1470]\n",
      " [ 476  645]]\n",
      "---\n",
      "Expected\n",
      "\n",
      "[[1544.09459459 1552.90540541]\n",
      " [ 558.90540541  562.09459459]]\n",
      "---\n",
      "\n",
      "chi^2 = 33.0016\n",
      "p     = 0.0000\n",
      "Reject H0\n"
     ]
    }
   ],
   "source": [
    "observed = pd.crosstab(train.churn, train['has_streaming'])\n",
    "chi2, p, degf, expected = stats.chi2_contingency(observed)\n",
    "\n",
    "print('Observed\\n')\n",
    "print(observed.values)\n",
    "print('---\\nExpected\\n')\n",
    "print(expected)\n",
    "print('---\\n')\n",
    "print(f'chi^2 = {chi2:.4f}')\n",
    "print(f'p     = {p:.4f}')\n",
    "\n",
    "if p < a:\n",
    "    print('Reject H0')\n",
    "else:\n",
    "    print(\"Fail to reject H0\")"
   ]
  },
  {
   "cell_type": "markdown",
   "metadata": {},
   "source": [
    "Let's also test to see whether or not customers who spend more than $75/mo are more likely to churn than those who do not.\n",
    "\n",
    "* $H\\alpha$ - There exist a realtionship between customers who have additional services and churn\n",
    "* $H0$ - There is not a realtionship between customers who have a additional services and churn\n",
    "\n",
    "\n",
    "This will also use a chi^2 test."
   ]
  },
  {
   "cell_type": "code",
   "execution_count": 50,
   "metadata": {
    "scrolled": false
   },
   "outputs": [
    {
     "name": "stdout",
     "output_type": "stream",
     "text": [
      "Observed\n",
      "\n",
      "[[1197 1900]\n",
      " [ 496  625]]\n",
      "---\n",
      "Expected\n",
      "\n",
      "[[1243.05855856 1853.94144144]\n",
      " [ 449.94144144  671.05855856]]\n",
      "---\n",
      "\n",
      "chi^2 = 10.4953\n",
      "p     = 0.0012\n",
      "Reject H0\n"
     ]
    }
   ],
   "source": [
    "observed = pd.crosstab(train.churn, train.additional_services)\n",
    "chi2, p, degf, expected = stats.chi2_contingency(observed)\n",
    "\n",
    "print('Observed\\n')\n",
    "print(observed.values)\n",
    "print('---\\nExpected\\n')\n",
    "print(expected)\n",
    "print('---\\n')\n",
    "print(f'chi^2 = {chi2:.4f}')\n",
    "print(f'p     = {p:.4f}')\n",
    "\n",
    "if p < a:\n",
    "    print('Reject H0')\n",
    "else:\n",
    "    print(\"Fail to reject H0\")"
   ]
  },
  {
   "cell_type": "markdown",
   "metadata": {},
   "source": [
    "Let's also test to see if auto and churn are dependent.\n",
    "\n",
    "* $H\\alpha$ - There exist a realtionship between auto pay and churn\n",
    "* $H0$ - There is not a realtionship between auto pay and churn"
   ]
  },
  {
   "cell_type": "code",
   "execution_count": 51,
   "metadata": {},
   "outputs": [
    {
     "name": "stdout",
     "output_type": "stream",
     "text": [
      "Observed\n",
      "\n",
      "[[1551 1546]\n",
      " [ 833  288]]\n",
      "---\n",
      "Expected\n",
      "\n",
      "[[1750.41441441 1346.58558559]\n",
      " [ 633.58558559  487.41441441]]\n",
      "---\n",
      "\n",
      "chi^2 = 195.6140\n",
      "p     = 0.0000\n",
      "Reject H0\n"
     ]
    }
   ],
   "source": [
    "observed = pd.crosstab(train.churn, train.auto_pay)\n",
    "chi2, p, degf, expected = stats.chi2_contingency(observed)\n",
    "\n",
    "print('Observed\\n')\n",
    "print(observed.values)\n",
    "print('---\\nExpected\\n')\n",
    "print(expected)\n",
    "print('---\\n')\n",
    "print(f'chi^2 = {chi2:.4f}')\n",
    "print(f'p     = {p:.4f}')\n",
    "\n",
    "if p < a:\n",
    "    print('Reject H0')\n",
    "else:\n",
    "    print(\"Fail to reject H0\")"
   ]
  },
  {
   "cell_type": "markdown",
   "metadata": {},
   "source": [
    "From the aboave statistical samplings we know the following:\n",
    "* There is a realtionship between has internet and churn\n",
    "* There is a realtionship between has fiber churn\n",
    "* Customers who churn spend more each month than customers who don't churn \n",
    "* Customers who churn spend more than the average\n",
    "* There is a realtionship between has_streaming and churn\n",
    "* There is a realtionship between additional services and churn\n",
    "* There is a realtionship between auto pay and churn\n",
    "\n",
    "Let's begin to build a model."
   ]
  },
  {
   "cell_type": "code",
   "execution_count": 95,
   "metadata": {},
   "outputs": [
    {
     "data": {
      "text/plain": [
       "0.7342342342342343"
      ]
     },
     "execution_count": 95,
     "metadata": {},
     "output_type": "execute_result"
    }
   ],
   "source": [
    "base = train\n",
    "base['baseline'] = 0\n",
    "base_accuracy = (base['churn'] == base['baseline']).mean()\n",
    "train.drop(columns = 'baseline', inplace=True)\n",
    "base_accuracy"
   ]
  },
  {
   "cell_type": "code",
   "execution_count": 96,
   "metadata": {},
   "outputs": [
    {
     "data": {
      "text/plain": [
       "Index(['customer_id', 'gender', 'senior_citizen', 'partner', 'dependents',\n",
       "       'tenure', 'phone_service', 'multiple_lines', 'internet_service_type_id',\n",
       "       'online_security', 'online_backup', 'device_protection', 'tech_support',\n",
       "       'streaming_tv', 'streaming_movies', 'contract_type_id',\n",
       "       'paperless_billing', 'payment_type_id', 'monthly_charges',\n",
       "       'total_charges', 'churn', 'internet_service_type', 'payment_type',\n",
       "       'contract_type', 'is_alone', 'tenure_year', 'additional_services',\n",
       "       'has_streaming', 'has_internet', 'auto_pay', 'has_fiber'],\n",
       "      dtype='object')"
      ]
     },
     "execution_count": 96,
     "metadata": {},
     "output_type": "execute_result"
    }
   ],
   "source": [
    "train.columns"
   ]
  },
  {
   "cell_type": "markdown",
   "metadata": {},
   "source": [
    "# Modeling\n",
    "\n",
    "1) Decision Tree\n",
    "\n",
    "I will build a decision tree based on the above statiscially significant catagorical features to try and predict churn"
   ]
  },
  {
   "cell_type": "code",
   "execution_count": 97,
   "metadata": {
    "scrolled": false
   },
   "outputs": [
    {
     "name": "stdout",
     "output_type": "stream",
     "text": [
      "Accuracy of Decision Tree classifier on training set: 0.76\n",
      "[[2831  266]\n",
      " [ 726  395]]\n",
      "              precision    recall  f1-score   support\n",
      "\n",
      "           0       0.80      0.91      0.85      3097\n",
      "           1       0.60      0.35      0.44      1121\n",
      "\n",
      "    accuracy                           0.76      4218\n",
      "   macro avg       0.70      0.63      0.65      4218\n",
      "weighted avg       0.74      0.76      0.74      4218\n",
      "\n"
     ]
    }
   ],
   "source": [
    "from sklearn.tree import DecisionTreeClassifier\n",
    "\n",
    "X = train[['has_streaming', 'auto_pay', 'additional_services', 'has_internet']]\n",
    "y = train[['churn']]\n",
    "\n",
    "clf = DecisionTreeClassifier(max_depth=4, random_state=333)\n",
    "clf.fit(X, y)\n",
    "y_pred = clf.predict(X)\n",
    "y_pred_proba = clf.predict_proba(X)\n",
    "\n",
    "\n",
    "print('Accuracy of Decision Tree classifier on training set: {:.2f}'\n",
    "     .format(clf.score(X, y)))\n",
    "print(confusion_matrix(y, y_pred))\n",
    "print(classification_report(y, y_pred))"
   ]
  },
  {
   "cell_type": "markdown",
   "metadata": {},
   "source": [
    "2) Logistic Regression"
   ]
  },
  {
   "cell_type": "code",
   "execution_count": 104,
   "metadata": {},
   "outputs": [
    {
     "name": "stdout",
     "output_type": "stream",
     "text": [
      "Accuracy of Logit1 classifier on training set: 0.78\n",
      "              precision    recall  f1-score   support\n",
      "\n",
      "           0       0.82      0.91      0.86      3097\n",
      "           1       0.63      0.43      0.51      1121\n",
      "\n",
      "    accuracy                           0.78      4218\n",
      "   macro avg       0.72      0.67      0.69      4218\n",
      "weighted avg       0.77      0.78      0.77      4218\n",
      "\n"
     ]
    }
   ],
   "source": [
    "from sklearn.linear_model import LogisticRegression\n",
    "\n",
    "logit1 = LogisticRegression()\n",
    "\n",
    "X = train[['tenure', 'monthly_charges', 'total_charges']]\n",
    "y = train.churn\n",
    "\n",
    "logit1 = logit1.fit(X, y)\n",
    "y_pred = logit1.predict(X)\n",
    "print('Accuracy of Logit1 classifier on training set: {:.2f}'\n",
    "     .format(logit1.score(X, y)))\n",
    "print(classification_report(y, y_pred))"
   ]
  },
  {
   "cell_type": "code",
   "execution_count": 85,
   "metadata": {},
   "outputs": [
    {
     "name": "stdout",
     "output_type": "stream",
     "text": [
      "Accuracy of Decision Tree classifier on training set: 0.75\n",
      "[[2973  124]\n",
      " [ 914  207]]\n",
      "              precision    recall  f1-score   support\n",
      "\n",
      "           0       0.76      0.96      0.85      3097\n",
      "           1       0.63      0.18      0.29      1121\n",
      "\n",
      "    accuracy                           0.75      4218\n",
      "   macro avg       0.70      0.57      0.57      4218\n",
      "weighted avg       0.73      0.75      0.70      4218\n",
      "\n"
     ]
    }
   ],
   "source": [
    "from sklearn.tree import DecisionTreeClassifier\n",
    "\n",
    "X = train[['has_streaming', 'auto_pay', 'additional_services', 'has_fiber']]\n",
    "y = train[['churn']]\n",
    "\n",
    "clf = DecisionTreeClassifier(max_depth=4, random_state=333)\n",
    "clf.fit(X, y)\n",
    "y_pred = clf.predict(X)\n",
    "y_pred_proba = clf.predict_proba(X)\n",
    "\n",
    "\n",
    "print('Accuracy of Decision Tree classifier on training set: {:.2f}'\n",
    "     .format(clf.score(X, y)))\n",
    "print(confusion_matrix(y, y_pred))\n",
    "print(classification_report(y, y_pred))"
   ]
  },
  {
   "cell_type": "code",
   "execution_count": 99,
   "metadata": {},
   "outputs": [
    {
     "name": "stdout",
     "output_type": "stream",
     "text": [
      "Accuracy of Decision Tree classifier on training set: 0.74\n",
      "[[2445  652]\n",
      " [ 445  676]]\n",
      "              precision    recall  f1-score   support\n",
      "\n",
      "           0       0.85      0.79      0.82      3097\n",
      "           1       0.51      0.60      0.55      1121\n",
      "\n",
      "    accuracy                           0.74      4218\n",
      "   macro avg       0.68      0.70      0.68      4218\n",
      "weighted avg       0.76      0.74      0.75      4218\n",
      "\n"
     ]
    }
   ],
   "source": [
    "from sklearn.tree import DecisionTreeClassifier\n",
    "\n",
    "X = train[['online_security', 'online_backup', 'auto_pay', 'has_internet']]\n",
    "y = train[['churn']]\n",
    "\n",
    "clf = DecisionTreeClassifier(max_depth=3, random_state=333)\n",
    "clf.fit(X, y)\n",
    "y_pred = clf.predict(X)\n",
    "y_pred_proba = clf.predict_proba(X)\n",
    "\n",
    "\n",
    "print('Accuracy of Decision Tree classifier on training set: {:.2f}'\n",
    "     .format(clf.score(X, y)))\n",
    "print(confusion_matrix(y, y_pred))\n",
    "print(classification_report(y, y_pred))"
   ]
  },
  {
   "cell_type": "code",
   "execution_count": 107,
   "metadata": {
    "scrolled": true
   },
   "outputs": [
    {
     "name": "stdout",
     "output_type": "stream",
     "text": [
      "Accuracy of Logit1 classifier on validate set: 0.78\n",
      "              precision    recall  f1-score   support\n",
      "\n",
      "           0       0.81      0.91      0.86      1033\n",
      "           1       0.63      0.42      0.51       374\n",
      "\n",
      "    accuracy                           0.78      1407\n",
      "   macro avg       0.72      0.67      0.68      1407\n",
      "weighted avg       0.76      0.78      0.76      1407\n",
      "\n"
     ]
    }
   ],
   "source": [
    "X = validate[['tenure', 'monthly_charges', 'total_charges']]\n",
    "y = validate.churn\n",
    "\n",
    "y_pred = logit1.predict(X)\n",
    "print('Accuracy of Logit1 classifier on validate set: {:.2f}'\n",
    "     .format(logit1.score(X, y)))\n",
    "print(classification_report(y, y_pred))"
   ]
  },
  {
   "cell_type": "code",
   "execution_count": 108,
   "metadata": {},
   "outputs": [
    {
     "name": "stdout",
     "output_type": "stream",
     "text": [
      "Accuracy of Logit1 classifier on test set: 0.80\n",
      "              precision    recall  f1-score   support\n",
      "\n",
      "           0       0.82      0.92      0.87      1033\n",
      "           1       0.67      0.46      0.54       374\n",
      "\n",
      "    accuracy                           0.80      1407\n",
      "   macro avg       0.75      0.69      0.71      1407\n",
      "weighted avg       0.78      0.80      0.78      1407\n",
      "\n"
     ]
    }
   ],
   "source": [
    "X = test[['tenure', 'monthly_charges', 'total_charges']]\n",
    "y = test.churn\n",
    "\n",
    "y_pred = logit1.predict(X)\n",
    "print('Accuracy of Logit1 classifier on test set: {:.2f}'\n",
    "     .format(logit1.score(X, y)))\n",
    "print(classification_report(y, y_pred))"
   ]
  },
  {
   "cell_type": "code",
   "execution_count": null,
   "metadata": {},
   "outputs": [],
   "source": []
  }
 ],
 "metadata": {
  "kernelspec": {
   "display_name": "Python 3",
   "language": "python",
   "name": "python3"
  },
  "language_info": {
   "codemirror_mode": {
    "name": "ipython",
    "version": 3
   },
   "file_extension": ".py",
   "mimetype": "text/x-python",
   "name": "python",
   "nbconvert_exporter": "python",
   "pygments_lexer": "ipython3",
   "version": "3.8.3"
  }
 },
 "nbformat": 4,
 "nbformat_minor": 4
}
